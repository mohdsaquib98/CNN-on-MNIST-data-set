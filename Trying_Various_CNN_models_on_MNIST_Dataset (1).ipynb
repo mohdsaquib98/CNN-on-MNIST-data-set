{
  "nbformat": 4,
  "nbformat_minor": 0,
  "metadata": {
    "colab": {
      "name": "Trying Various CNN models on MNIST Dataset",
      "version": "0.3.2",
      "provenance": [],
      "collapsed_sections": []
    },
    "kernelspec": {
      "name": "python3",
      "display_name": "Python 3"
    }
  },
  "cells": [
    {
      "cell_type": "markdown",
      "metadata": {
        "id": "vXjLuDyULKE8",
        "colab_type": "text"
      },
      "source": [
        "## Trying Various CNN models on MNIST Dataset"
      ]
    },
    {
      "cell_type": "code",
      "metadata": {
        "id": "WMXl-DTWmnw7",
        "colab_type": "code",
        "colab": {
          "base_uri": "https://localhost:8080/",
          "height": 34
        },
        "outputId": "721e2f3d-9e78-4e5e-a92f-f060fbbe25a8"
      },
      "source": [
        "## Importing modules and data\n",
        "from __future__ import print_function\n",
        "import keras\n",
        "from keras.datasets import mnist\n",
        "from keras.models import Sequential\n",
        "from keras.layers import Dense, Dropout, Flatten\n",
        "from keras.layers import Conv2D, MaxPooling2D\n",
        "from keras import backend as K\n"
      ],
      "execution_count": 12,
      "outputs": [
        {
          "output_type": "stream",
          "text": [
            "Using TensorFlow backend.\n"
          ],
          "name": "stderr"
        }
      ]
    },
    {
      "cell_type": "code",
      "metadata": {
        "id": "K5SmQ0Vyt7vE",
        "colab_type": "code",
        "colab": {}
      },
      "source": [
        "import matplotlib.pyplot as plt\n",
        "import numpy as np\n",
        "import time\n",
        "def plt_dynamic(x, vy, ty, ax, colors=['b']):\n",
        "    ax.plot(x, vy, 'b', label=\"validation Loss\")\n",
        "    ax.plot(x, ty, 'r', label=\"Train Loss\")\n",
        "    plt.legend()\n",
        "    plt.grid()\n",
        "    fig.canvas.draw()"
      ],
      "execution_count": 0,
      "outputs": []
    },
    {
      "cell_type": "markdown",
      "metadata": {
        "id": "rgoT_TKmLlea",
        "colab_type": "text"
      },
      "source": [
        "### Preprocessing"
      ]
    },
    {
      "cell_type": "code",
      "metadata": {
        "id": "0PW2qFhl9HJ3",
        "colab_type": "code",
        "colab": {}
      },
      "source": [
        "\n",
        "# input image dimensions\n",
        "img_rows, img_cols = 28, 28\n"
      ],
      "execution_count": 0,
      "outputs": []
    },
    {
      "cell_type": "code",
      "metadata": {
        "id": "z4FWFXUf-Iy_",
        "colab_type": "code",
        "colab": {}
      },
      "source": [
        "batch_size = 128\n",
        "num_classes = 10\n",
        "epochs = 12\n"
      ],
      "execution_count": 0,
      "outputs": []
    },
    {
      "cell_type": "code",
      "metadata": {
        "id": "ckYLcNPJ9Hvq",
        "colab_type": "code",
        "colab": {
          "base_uri": "https://localhost:8080/",
          "height": 51
        },
        "outputId": "6043647a-d012-4039-f89a-8c7d7b7868c9"
      },
      "source": [
        "# the data, split between train and test sets\n",
        "(x_train, y_train), (x_test, y_test) = mnist.load_data()"
      ],
      "execution_count": 16,
      "outputs": [
        {
          "output_type": "stream",
          "text": [
            "Downloading data from https://s3.amazonaws.com/img-datasets/mnist.npz\n",
            "11493376/11490434 [==============================] - 1s 0us/step\n"
          ],
          "name": "stdout"
        }
      ]
    },
    {
      "cell_type": "code",
      "metadata": {
        "id": "VojgkJcL9KaL",
        "colab_type": "code",
        "colab": {
          "base_uri": "https://localhost:8080/",
          "height": 68
        },
        "outputId": "c121d241-6b52-424b-ff0a-786b4d73d2dd"
      },
      "source": [
        "if K.image_data_format() == 'channels_first':\n",
        "    x_train = x_train.reshape(x_train.shape[0], 1, img_rows, img_cols)\n",
        "    x_test = x_test.reshape(x_test.shape[0], 1, img_rows, img_cols)\n",
        "    input_shape = (1, img_rows, img_cols)\n",
        "else:\n",
        "    x_train = x_train.reshape(x_train.shape[0], img_rows, img_cols, 1)\n",
        "    x_test = x_test.reshape(x_test.shape[0], img_rows, img_cols, 1)\n",
        "    input_shape = (img_rows, img_cols, 1)\n",
        "\n",
        "x_train = x_train.astype('float32')\n",
        "x_test = x_test.astype('float32')\n",
        "x_train /= 255\n",
        "x_test /= 255\n",
        "print('x_train shape:', x_train.shape)\n",
        "print(x_train.shape[0], 'train samples')\n",
        "print(x_test.shape[0], 'test samples')\n",
        "\n",
        "# convert class vectors to binary class matrices\n",
        "y_train = keras.utils.to_categorical(y_train, num_classes)\n",
        "y_test = keras.utils.to_categorical(y_test, num_classes)\n"
      ],
      "execution_count": 17,
      "outputs": [
        {
          "output_type": "stream",
          "text": [
            "x_train shape: (60000, 28, 28, 1)\n",
            "60000 train samples\n",
            "10000 test samples\n"
          ],
          "name": "stdout"
        }
      ]
    },
    {
      "cell_type": "markdown",
      "metadata": {
        "id": "j9bvV74s8X8M",
        "colab_type": "text"
      },
      "source": [
        "### Model 1 - Kernel Size - 3x3  with  3 Layers \n"
      ]
    },
    {
      "cell_type": "code",
      "metadata": {
        "id": "gRXP5N0h9TJW",
        "colab_type": "code",
        "colab": {
          "base_uri": "https://localhost:8080/",
          "height": 802
        },
        "outputId": "bc44c49d-2045-45f0-8220-9ae4ecef6f9d"
      },
      "source": [
        "### Model 1\n",
        "model = Sequential()\n",
        "model.add(Conv2D(32, kernel_size=(3, 3),\n",
        "                 activation='relu',\n",
        "                 input_shape=input_shape))\n",
        "model.add(Conv2D(64, (3, 3), activation='relu'))\n",
        "model.add(Conv2D(128,(3, 3), activation='relu'))\n",
        "model.add(MaxPooling2D(pool_size=(2, 2)))\n",
        "model.add(Flatten())\n",
        "model.add(Dense(128, activation='relu'))\n",
        "model.add(Dense(num_classes, activation='softmax'))\n",
        "model.compile(loss=keras.losses.categorical_crossentropy,\n",
        "              optimizer=keras.optimizers.Adadelta(),\n",
        "              metrics=['accuracy'])\n",
        "\n",
        "history = model.fit(x_train, y_train,\n",
        "          batch_size=batch_size,\n",
        "          epochs=epochs,\n",
        "          verbose=1,\n",
        "          validation_data=(x_test, y_test))\n",
        "score = model.evaluate(x_test, y_test, verbose=0)\n",
        "print('Test score:', score[0])\n",
        "print('Test accuracy:', score[1])\n"
      ],
      "execution_count": 18,
      "outputs": [
        {
          "output_type": "stream",
          "text": [
            "WARNING: Logging before flag parsing goes to stderr.\n",
            "W0710 06:22:10.534122 139629505636224 deprecation_wrapper.py:119] From /usr/local/lib/python3.6/dist-packages/keras/backend/tensorflow_backend.py:74: The name tf.get_default_graph is deprecated. Please use tf.compat.v1.get_default_graph instead.\n",
            "\n",
            "W0710 06:22:10.589409 139629505636224 deprecation_wrapper.py:119] From /usr/local/lib/python3.6/dist-packages/keras/backend/tensorflow_backend.py:517: The name tf.placeholder is deprecated. Please use tf.compat.v1.placeholder instead.\n",
            "\n",
            "W0710 06:22:10.599265 139629505636224 deprecation_wrapper.py:119] From /usr/local/lib/python3.6/dist-packages/keras/backend/tensorflow_backend.py:4138: The name tf.random_uniform is deprecated. Please use tf.random.uniform instead.\n",
            "\n",
            "W0710 06:22:10.693979 139629505636224 deprecation_wrapper.py:119] From /usr/local/lib/python3.6/dist-packages/keras/backend/tensorflow_backend.py:3976: The name tf.nn.max_pool is deprecated. Please use tf.nn.max_pool2d instead.\n",
            "\n",
            "W0710 06:22:10.761312 139629505636224 deprecation_wrapper.py:119] From /usr/local/lib/python3.6/dist-packages/keras/optimizers.py:790: The name tf.train.Optimizer is deprecated. Please use tf.compat.v1.train.Optimizer instead.\n",
            "\n",
            "W0710 06:22:10.778709 139629505636224 deprecation_wrapper.py:119] From /usr/local/lib/python3.6/dist-packages/keras/backend/tensorflow_backend.py:3295: The name tf.log is deprecated. Please use tf.math.log instead.\n",
            "\n",
            "W0710 06:22:10.948116 139629505636224 deprecation.py:323] From /usr/local/lib/python3.6/dist-packages/tensorflow/python/ops/math_grad.py:1250: add_dispatch_support.<locals>.wrapper (from tensorflow.python.ops.array_ops) is deprecated and will be removed in a future version.\n",
            "Instructions for updating:\n",
            "Use tf.where in 2.0, which has the same broadcast rule as np.where\n",
            "W0710 06:22:11.121432 139629505636224 deprecation_wrapper.py:119] From /usr/local/lib/python3.6/dist-packages/keras/backend/tensorflow_backend.py:986: The name tf.assign_add is deprecated. Please use tf.compat.v1.assign_add instead.\n",
            "\n"
          ],
          "name": "stderr"
        },
        {
          "output_type": "stream",
          "text": [
            "Train on 60000 samples, validate on 10000 samples\n",
            "Epoch 1/12\n",
            "60000/60000 [==============================] - 454s 8ms/step - loss: 0.1849 - acc: 0.9446 - val_loss: 0.0450 - val_acc: 0.9857\n",
            "Epoch 2/12\n",
            "60000/60000 [==============================] - 452s 8ms/step - loss: 0.0429 - acc: 0.9871 - val_loss: 0.0310 - val_acc: 0.9897\n",
            "Epoch 3/12\n",
            "60000/60000 [==============================] - 451s 8ms/step - loss: 0.0268 - acc: 0.9911 - val_loss: 0.0288 - val_acc: 0.9896\n",
            "Epoch 4/12\n",
            "60000/60000 [==============================] - 448s 7ms/step - loss: 0.0177 - acc: 0.9946 - val_loss: 0.0357 - val_acc: 0.9886\n",
            "Epoch 5/12\n",
            "60000/60000 [==============================] - 448s 7ms/step - loss: 0.0111 - acc: 0.9964 - val_loss: 0.0304 - val_acc: 0.9906\n",
            "Epoch 6/12\n",
            "60000/60000 [==============================] - 449s 7ms/step - loss: 0.0080 - acc: 0.9975 - val_loss: 0.0317 - val_acc: 0.9901\n",
            "Epoch 7/12\n",
            "60000/60000 [==============================] - 449s 7ms/step - loss: 0.0061 - acc: 0.9982 - val_loss: 0.0354 - val_acc: 0.9907\n",
            "Epoch 8/12\n",
            "60000/60000 [==============================] - 449s 7ms/step - loss: 0.0035 - acc: 0.9990 - val_loss: 0.0365 - val_acc: 0.9912\n",
            "Epoch 9/12\n",
            "60000/60000 [==============================] - 450s 7ms/step - loss: 0.0024 - acc: 0.9992 - val_loss: 0.0521 - val_acc: 0.9896\n",
            "Epoch 10/12\n",
            "60000/60000 [==============================] - 452s 8ms/step - loss: 0.0019 - acc: 0.9995 - val_loss: 0.0491 - val_acc: 0.9902\n",
            "Epoch 11/12\n",
            "60000/60000 [==============================] - 449s 7ms/step - loss: 0.0017 - acc: 0.9996 - val_loss: 0.0487 - val_acc: 0.9898\n",
            "Epoch 12/12\n",
            "60000/60000 [==============================] - 450s 7ms/step - loss: 0.0011 - acc: 0.9998 - val_loss: 0.0439 - val_acc: 0.9911\n",
            "Test score: 0.04386423885231861\n",
            "Test accuracy: 0.9911\n"
          ],
          "name": "stdout"
        }
      ]
    },
    {
      "cell_type": "code",
      "metadata": {
        "id": "_XLH5XIo_hzQ",
        "colab_type": "code",
        "colab": {
          "base_uri": "https://localhost:8080/",
          "height": 283
        },
        "outputId": "a58fafa0-1516-4abb-fd81-a17be2137b69"
      },
      "source": [
        "\n",
        "fig, ax = plt.subplots(1, 1)\n",
        "ax.set_xlabel('epoch')\n",
        "ax.set_ylabel('Categorical Crossentropy Loss')\n",
        "\n",
        "#list of epoch numbers\n",
        "x = list(range(1, epochs+1))\n",
        "vy = history.history['val_loss']\n",
        "ty = history.history['loss']\n",
        "plt_dynamic(x, vy, ty, ax)"
      ],
      "execution_count": 19,
      "outputs": [
        {
          "output_type": "display_data",
          "data": {
            "image/png": "[encoded data removed]",
            "text/plain": [
              "<Figure size 432x288 with 1 Axes>"
            ]
          },
          "metadata": {
            "tags": []
          }
        }
      ]
    },
    {
      "cell_type": "markdown",
      "metadata": {
        "id": "2doS03i5L_8R",
        "colab_type": "text"
      },
      "source": [
        "### Observation\n",
        "\n",
        "\n",
        "1.   In this model I have used 3 ConvNets.\n",
        "2.   Then Max Pooling of stride=2.\n",
        "3.   And then Classification is performed with dense layers of 128 followed by a final softmax layer.\n",
        "4.   The Test Accuracy is 99.11 % , which is quite good\n",
        "\n",
        "### From error plot -\n",
        "1.   In the starting epochs (till 2 )  train error was high, then started decreasing after 2 epochs and goes on decreasing.\n",
        "2.   The cross validation error shows not much variation in error, it remains between 0.025 and 0.050 only.\n",
        "\n"
      ]
    },
    {
      "cell_type": "markdown",
      "metadata": {
        "id": "aiuYbNRBNpZT",
        "colab_type": "text"
      },
      "source": [
        "### *For the above model accuracy was good, lets try out if we use 5 layers with Maxpooling and droupouts.* \n",
        "### Model 2 - Kernel size 2x2 with 5 Layers with Maxpooling and dropouts."
      ]
    },
    {
      "cell_type": "code",
      "metadata": {
        "id": "J1lOzWaC_ogr",
        "colab_type": "code",
        "colab": {
          "base_uri": "https://localhost:8080/",
          "height": 88
        },
        "outputId": "c5878d29-10b1-4d6f-b031-5b2ecb572634"
      },
      "source": [
        "### Model 2\n",
        "model = Sequential()\n",
        "model.add(Conv2D(32, kernel_size=(2, 2),\n",
        "                 activation='relu',\n",
        "                 input_shape=input_shape))\n",
        "\n",
        "model.add(Conv2D(64, kernel_size=(2,2)))\n",
        "model.add(Conv2D(64, kernel_size=(2,2)))\n",
        "model.add(Conv2D(64, kernel_size=(2,2)))\n",
        "model.add(Conv2D(128,kernel_size=(2,2)))\n",
        "model.add(MaxPooling2D(pool_size=(2,2)))\n",
        "\n",
        "model.add(Dropout(0.25))\n",
        "model.add(Flatten())\n",
        "model.add(Dense(128, activation='relu'))\n",
        "model.add(Dropout(0.5))\n",
        "model.add(Dense(num_classes, activation='softmax'))"
      ],
      "execution_count": 20,
      "outputs": [
        {
          "output_type": "stream",
          "text": [
            "W0710 07:52:33.343074 139629505636224 deprecation.py:506] From /usr/local/lib/python3.6/dist-packages/keras/backend/tensorflow_backend.py:3445: calling dropout (from tensorflow.python.ops.nn_ops) with keep_prob is deprecated and will be removed in a future version.\n",
            "Instructions for updating:\n",
            "Please use `rate` instead of `keep_prob`. Rate should be set to `rate = 1 - keep_prob`.\n"
          ],
          "name": "stderr"
        }
      ]
    },
    {
      "cell_type": "code",
      "metadata": {
        "id": "cttd2FA2gXRL",
        "colab_type": "code",
        "colab": {
          "base_uri": "https://localhost:8080/",
          "height": 476
        },
        "outputId": "1eb67f0b-91f1-4901-ac00-35f57099a346"
      },
      "source": [
        "model.compile(loss=keras.losses.categorical_crossentropy,\n",
        "              optimizer=keras.optimizers.Adadelta(),\n",
        "              metrics=['accuracy'])\n",
        "\n",
        "history = model.fit(x_train, y_train,\n",
        "          batch_size=batch_size,\n",
        "          epochs=epochs,\n",
        "          verbose=1,\n",
        "          validation_data=(x_test, y_test))\n",
        "score = model.evaluate(x_test, y_test, verbose=0)\n",
        "print('Test score:', score[0])\n",
        "print('Test accuracy:', score[1])\n"
      ],
      "execution_count": 21,
      "outputs": [
        {
          "output_type": "stream",
          "text": [
            "Train on 60000 samples, validate on 10000 samples\n",
            "Epoch 1/12\n",
            "60000/60000 [==============================] - 474s 8ms/step - loss: 0.2764 - acc: 0.9143 - val_loss: 0.0764 - val_acc: 0.9766\n",
            "Epoch 2/12\n",
            "60000/60000 [==============================] - 474s 8ms/step - loss: 0.1097 - acc: 0.9678 - val_loss: 0.0606 - val_acc: 0.9808\n",
            "Epoch 3/12\n",
            "60000/60000 [==============================] - 474s 8ms/step - loss: 0.0818 - acc: 0.9751 - val_loss: 0.0455 - val_acc: 0.9862\n",
            "Epoch 4/12\n",
            "60000/60000 [==============================] - 475s 8ms/step - loss: 0.0680 - acc: 0.9791 - val_loss: 0.0422 - val_acc: 0.9872\n",
            "Epoch 5/12\n",
            "60000/60000 [==============================] - 473s 8ms/step - loss: 0.0602 - acc: 0.9818 - val_loss: 0.0704 - val_acc: 0.9827\n",
            "Epoch 6/12\n",
            "60000/60000 [==============================] - 472s 8ms/step - loss: 0.0511 - acc: 0.9845 - val_loss: 0.0451 - val_acc: 0.9854\n",
            "Epoch 7/12\n",
            "60000/60000 [==============================] - 472s 8ms/step - loss: 0.0462 - acc: 0.9866 - val_loss: 0.0395 - val_acc: 0.9884\n",
            "Epoch 8/12\n",
            "60000/60000 [==============================] - 474s 8ms/step - loss: 0.0409 - acc: 0.9870 - val_loss: 0.0418 - val_acc: 0.9889\n",
            "Epoch 9/12\n",
            "60000/60000 [==============================] - 472s 8ms/step - loss: 0.0382 - acc: 0.9886 - val_loss: 0.0363 - val_acc: 0.9897\n",
            "Epoch 10/12\n",
            "60000/60000 [==============================] - 472s 8ms/step - loss: 0.0374 - acc: 0.9889 - val_loss: 0.0383 - val_acc: 0.9891\n",
            "Epoch 11/12\n",
            "60000/60000 [==============================] - 472s 8ms/step - loss: 0.0329 - acc: 0.9897 - val_loss: 0.0423 - val_acc: 0.9877\n",
            "Epoch 12/12\n",
            "60000/60000 [==============================] - 479s 8ms/step - loss: 0.0306 - acc: 0.9902 - val_loss: 0.0457 - val_acc: 0.9897\n",
            "Test score: 0.045745286424794265\n",
            "Test accuracy: 0.9897\n"
          ],
          "name": "stdout"
        }
      ]
    },
    {
      "cell_type": "markdown",
      "metadata": {
        "id": "RnNeRHEnn6yW",
        "colab_type": "text"
      },
      "source": [
        "### Error Plot"
      ]
    },
    {
      "cell_type": "code",
      "metadata": {
        "id": "i50_PHnMn8_b",
        "colab_type": "code",
        "colab": {
          "base_uri": "https://localhost:8080/",
          "height": 283
        },
        "outputId": "cf8d6323-8011-4f57-d365-0c94f5487ca7"
      },
      "source": [
        "import matplotlib.pyplot as plt\n",
        "fig, ax = plt.subplots(1,1)\n",
        "ax.set_xlabel('epoch')\n",
        "ax.set_ylabel('Categorical Crossentropy Loss')\n",
        "\n",
        "#list of epoch numbers\n",
        "x = list(range(1, epochs+1))\n",
        "vy = history.history['val_loss']\n",
        "ty = history.history['loss']\n",
        "plt_dynamic(x, vy, ty, ax)"
      ],
      "execution_count": 22,
      "outputs": [
        {
          "output_type": "display_data",
          "data": {
            "image/png": "[encoded data removed]",
            "text/plain": [
              "<Figure size 432x288 with 1 Axes>"
            ]
          },
          "metadata": {
            "tags": []
          }
        }
      ]
    },
    {
      "cell_type": "markdown",
      "metadata": {
        "id": "UtIXxHB7hFc6",
        "colab_type": "text"
      },
      "source": [
        "### Observation - For the above model we tried 5 layers along with Maxpooling and droupout and accuracy is equal to 98.9 % which is lesser than our earlier model, this may have happen due to the reduced  kernel size of 2x2.\n",
        "\n",
        "### From error plot-\n",
        "1. In the starting epochs (till 2 ) train error was high, then started decreasing after 2 epochs and goes on decreasing\n",
        "2. The cross validation error shows not much variation in error, the error remains low only.\n",
        "\n"
      ]
    },
    {
      "cell_type": "markdown",
      "metadata": {
        "id": "45kjfPjPAIrZ",
        "colab_type": "text"
      },
      "source": [
        "#### *Lets now try with modern optimization like Batchnormalization, Maxpooling, Dropouts all in a single model.* \n",
        "\n",
        "### Model 3 - Kernel Size 4x4 - with 6 layers\n"
      ]
    },
    {
      "cell_type": "code",
      "metadata": {
        "id": "UVrpYI-ihDeE",
        "colab_type": "code",
        "colab": {
          "base_uri": "https://localhost:8080/",
          "height": 530
        },
        "outputId": "8ba55564-9162-4be8-fdbf-c700b40e0f73"
      },
      "source": [
        "### Model 3\n",
        "from keras.layers.normalization import BatchNormalization\n",
        "model = Sequential()\n",
        "\n",
        "model.add(Conv2D(32,kernel_size=4,activation='relu',input_shape=(28,28,1)))\n",
        "model.add(BatchNormalization())\n",
        "model.add(Conv2D(32,kernel_size=4,activation='relu'))\n",
        "model.add(BatchNormalization())\n",
        "model.add(Conv2D(32,kernel_size=4,strides=2,padding='same',activation='relu'))\n",
        "model.add(BatchNormalization())\n",
        "model.add(Dropout(0.4))\n",
        "\n",
        "model.add(Conv2D(64,kernel_size=4,activation='relu'))\n",
        "model.add(BatchNormalization())\n",
        "model.add(Conv2D(64,kernel_size=4,activation='relu'))\n",
        "model.add(BatchNormalization())\n",
        "model.add(Conv2D(64,kernel_size=4,strides=2,padding='same',activation='relu'))\n",
        "model.add(BatchNormalization())\n",
        "model.add(Dropout(0.4))\n",
        "\n",
        "model.add(Flatten())\n",
        "model.add(Dense(128, activation='relu'))\n",
        "model.add(BatchNormalization())\n",
        "model.add(Dropout(0.4))\n",
        "model.add(Dense(10, activation='softmax'))\n",
        "\n",
        "model.compile(loss=keras.losses.categorical_crossentropy,\n",
        "              optimizer=keras.optimizers.Adadelta(),\n",
        "              metrics=['accuracy'])\n",
        "history = model.fit(x_train, y_train,\n",
        "          batch_size=batch_size,\n",
        "          epochs=epochs,\n",
        "          verbose=1,\n",
        "          validation_data=(x_test, y_test))\n",
        "score = model.evaluate(x_test, y_test, verbose=0)\n",
        "print('Test score:', score[0])\n",
        "print('Test accuracy:', score[1])\n"
      ],
      "execution_count": 23,
      "outputs": [
        {
          "output_type": "stream",
          "text": [
            "W0710 09:27:36.083409 139629505636224 deprecation_wrapper.py:119] From /usr/local/lib/python3.6/dist-packages/keras/backend/tensorflow_backend.py:1834: The name tf.nn.fused_batch_norm is deprecated. Please use tf.compat.v1.nn.fused_batch_norm instead.\n",
            "\n"
          ],
          "name": "stderr"
        },
        {
          "output_type": "stream",
          "text": [
            "Train on 60000 samples, validate on 10000 samples\n",
            "Epoch 1/12\n",
            "60000/60000 [==============================] - 290s 5ms/step - loss: 0.2392 - acc: 0.9280 - val_loss: 0.0638 - val_acc: 0.9797\n",
            "Epoch 2/12\n",
            "60000/60000 [==============================] - 284s 5ms/step - loss: 0.0647 - acc: 0.9812 - val_loss: 0.0466 - val_acc: 0.9853\n",
            "Epoch 3/12\n",
            "60000/60000 [==============================] - 285s 5ms/step - loss: 0.0452 - acc: 0.9863 - val_loss: 0.0329 - val_acc: 0.9895\n",
            "Epoch 4/12\n",
            "60000/60000 [==============================] - 288s 5ms/step - loss: 0.0364 - acc: 0.9892 - val_loss: 0.0205 - val_acc: 0.9937\n",
            "Epoch 5/12\n",
            "60000/60000 [==============================] - 286s 5ms/step - loss: 0.0308 - acc: 0.9908 - val_loss: 0.0210 - val_acc: 0.9936\n",
            "Epoch 6/12\n",
            "60000/60000 [==============================] - 287s 5ms/step - loss: 0.0262 - acc: 0.9921 - val_loss: 0.0207 - val_acc: 0.9946\n",
            "Epoch 7/12\n",
            "60000/60000 [==============================] - 286s 5ms/step - loss: 0.0244 - acc: 0.9928 - val_loss: 0.0184 - val_acc: 0.9936\n",
            "Epoch 8/12\n",
            "60000/60000 [==============================] - 284s 5ms/step - loss: 0.0206 - acc: 0.9934 - val_loss: 0.0201 - val_acc: 0.9933\n",
            "Epoch 9/12\n",
            "60000/60000 [==============================] - 288s 5ms/step - loss: 0.0194 - acc: 0.9939 - val_loss: 0.0221 - val_acc: 0.9938\n",
            "Epoch 10/12\n",
            "60000/60000 [==============================] - 289s 5ms/step - loss: 0.0162 - acc: 0.9947 - val_loss: 0.0178 - val_acc: 0.9948\n",
            "Epoch 11/12\n",
            "60000/60000 [==============================] - 286s 5ms/step - loss: 0.0158 - acc: 0.9951 - val_loss: 0.0237 - val_acc: 0.9932\n",
            "Epoch 12/12\n",
            "60000/60000 [==============================] - 287s 5ms/step - loss: 0.0147 - acc: 0.9956 - val_loss: 0.0204 - val_acc: 0.9941\n",
            "Test score: 0.020371905756627347\n",
            "Test accuracy: 0.9941\n"
          ],
          "name": "stdout"
        }
      ]
    },
    {
      "cell_type": "code",
      "metadata": {
        "id": "lJcak-BcmSAS",
        "colab_type": "code",
        "colab": {
          "base_uri": "https://localhost:8080/",
          "height": 283
        },
        "outputId": "d26f791c-12ec-4386-86ec-5bec0bc09582"
      },
      "source": [
        "\n",
        "fig, ax = plt.subplots(1, 1)\n",
        "ax.set_xlabel('epoch')\n",
        "ax.set_ylabel('Categorical Crossentropy Loss')\n",
        "\n",
        "#list of epoch numbers\n",
        "x = list(range(1, epochs+1))\n",
        "vy = history.history['val_loss']\n",
        "ty = history.history['loss']\n",
        "plt_dynamic(x, vy, ty, ax)"
      ],
      "execution_count": 24,
      "outputs": [
        {
          "output_type": "display_data",
          "data": {
            "image/png": "[encoded data removed]",
            "text/plain": [
              "<Figure size 432x288 with 1 Axes>"
            ]
          },
          "metadata": {
            "tags": []
          }
        }
      ]
    },
    {
      "cell_type": "markdown",
      "metadata": {
        "id": "AkD--MHgx-xW",
        "colab_type": "text"
      },
      "source": [
        "### Observation -\n",
        "1. Modern optimization works great, it give a test accuracy of 99.41% which is better from our model 1 and \n",
        "\n",
        "### From error plot-\n",
        "1. In the starting epochs (till 2 ) train error was high, then started decreasing after 2 epochs and goes on decreasing\n",
        "2.The cross validation error shows a little variation in error at starting epochs but then it remains low only."
      ]
    },
    {
      "cell_type": "markdown",
      "metadata": {
        "id": "O3xLiIMQynKA",
        "colab_type": "text"
      },
      "source": [
        "### Conclusion"
      ]
    },
    {
      "cell_type": "code",
      "metadata": {
        "id": "RpdH-oKJxMT3",
        "colab_type": "code",
        "colab": {
          "base_uri": "https://localhost:8080/",
          "height": 136
        },
        "outputId": "e624b7e1-e5fb-490d-a1ea-fa8530c4f073"
      },
      "source": [
        "from prettytable import PrettyTable\n",
        "x = PrettyTable()\n",
        "x.field_names = [\"Filters\", \"Layers\", \"Model\", \"Activation\", \"Epoch\", \"Accuracy\"]\n",
        "x.add_row([\"3 x 3\", \"3\", \"Convnet\", \"Relu\", 12, \"99.11%\"])\n",
        "x.add_row([\"2 x 2\", \"5\" ,\"Convnet\", \"Relu\", 12, \"98.9%\"])\n",
        "x.add_row([\"4 x 4\", \"6\" ,\"Convnet\", \"Relu\", 12, \"99.36%\"])\n",
        "print(x)"
      ],
      "execution_count": 26,
      "outputs": [
        {
          "output_type": "stream",
          "text": [
            "+---------+--------+---------+------------+-------+----------+\n",
            "| Filters | Layers |  Model  | Activation | Epoch | Accuracy |\n",
            "+---------+--------+---------+------------+-------+----------+\n",
            "|  3 x 3  |   3    | Convnet |    Relu    |   12  |  99.11%  |\n",
            "|  2 x 2  |   5    | Convnet |    Relu    |   12  |  98.9%   |\n",
            "|  4 x 4  |   6    | Convnet |    Relu    |   12  |  99.36%  |\n",
            "+---------+--------+---------+------------+-------+----------+\n"
          ],
          "name": "stdout"
        }
      ]
    },
    {
      "cell_type": "code",
      "metadata": {
        "id": "el_57yVDzIvk",
        "colab_type": "code",
        "colab": {}
      },
      "source": [
        ""
      ],
      "execution_count": 0,
      "outputs": []
    }
  ]
}